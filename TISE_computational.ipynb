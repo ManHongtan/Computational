{
 "cells": [
  {
   "cell_type": "markdown",
   "id": "bf652983-38d8-4635-b2ef-68fb0fcaf37d",
   "metadata": {},
   "source": [
    "Include all necessary libraries and define given constant and potential well. The constants are reduced to normalised unit to simplify calculations (hbar=1, m=1). The parameters alpha and lamda(lam) determine the spatial characteristic and depth of the potential well respectively."
   ]
  },
  {
   "cell_type": "code",
   "execution_count": null,
   "id": "8c07c38c-1142-4cf7-a3d6-e15bd55f07ce",
   "metadata": {},
   "outputs": [],
   "source": [
    "import numpy as np\n",
    "import matplotlib.pyplot as plt\n",
    "from scipy.optimize import root_scalar\n",
    "\n",
    "# Constants\n",
    "hbar = 1.0\n",
    "m = 1.0\n",
    "alpha = 1.0\n",
    "lam = 4.0"
   ]
  },
  {
   "cell_type": "markdown",
   "id": "74a60778-b50b-4fff-8a07-6013bd6bf905",
   "metadata": {},
   "source": [
    "The potential is a hyperbolic cosine with symmetric well shape. The particle is confined within the potential well in bound state of E<V(max)"
   ]
  },
  {
   "cell_type": "code",
   "execution_count": null,
   "id": "f0a5b6b4-651c-4fe9-93c5-8b5f12f5f270",
   "metadata": {},
   "outputs": [],
   "source": [
    "# Potential definition\n",
    "def V(x):\n",
    "    return (hbar**2 * alpha**2 * lam * (lam - 1) * (0.5 - 1 / (np.cosh(alpha * x)**2))) / (2 * m)"
   ]
  },
  {
   "cell_type": "markdown",
   "id": "2c9ca776-afbe-446e-bc1a-8a3c93b9defc",
   "metadata": {},
   "source": [
    "f(E) computes the mismatch of wavefunction deriatives at turning points for given energy (E). Continuity conditions apply for the wavefunction where:\n",
    "*psi(left)=psi(right), psi'(left)=psi'(right)*"
   ]
  },
  {
   "cell_type": "code",
   "execution_count": null,
   "id": "4cfe2f2e-3707-4115-a879-ce7e482c4e23",
   "metadata": {},
   "outputs": [],
   "source": [
    "# Function f(E)\n",
    "def f_E(E):\n",
    "    def k_squared(E, V):\n",
    "        return -2 * m / hbar ** 2 * (E - V)"
   ]
  },
  {
   "cell_type": "markdown",
   "id": "2dc864a5-5888-4b5e-9bd5-b0588958fa9e",
   "metadata": {},
   "source": [
    "k_squared(E,V) is the squared wave number obtain from the Schrodinger equation. Numerov method is applied for solving the second-order differential equation by using three consecutive points to compute the next value. Using Numerov method, the wavefunction is integrated from the left and right boundary."
   ]
  },
  {
   "cell_type": "code",
   "execution_count": null,
   "id": "37dbf93a-8668-4e81-82ba-bed470e48ecd",
   "metadata": {},
   "outputs": [],
   "source": [
    "    def Numerov_left(y_left, h, E, V_x):\n",
    "        k2 = k_squared(E, V_x)\n",
    "        y = np.zeros(n + 1)\n",
    "        y[0] = y_left\n",
    "        y[1] = y_left + 1e-10\n",
    "        for i in range(1, n):\n",
    "            y[i + 1] = (y[i] * (2 + 10 / 12 * h ** 2 * k2[i]) - y[i - 1] * (1 - h ** 2 / 12 * k2[i - 1])) / (1 - h ** 2 / 12 * k2[i + 1])\n",
    "        return y\n",
    "\n",
    "    def Numerov_right(y_right, h, E, V_x):\n",
    "        k2 = k_squared(E, V_x)\n",
    "        y = np.zeros(n + 1)\n",
    "        y[-1] = y_right\n",
    "        y[-2] = y_right + 1e-10\n",
    "        for i in range(1, n):\n",
    "            y[-(i + 2)] = (y[-(i + 1)] * (2 + 10 / 12 * h ** 2 * k2[-(i + 1)]) - y[-i] * (1 - h ** 2 / 12 * k2[-i])) / (1 - h ** 2 / 12 * k2[-(i + 2)])\n",
    "        return y"
   ]
  },
  {
   "cell_type": "markdown",
   "id": "d1b45b07-5dad-4dc7-977a-823a90165b0a",
   "metadata": {},
   "source": [
    "Turning point is when E=V where the wavefunction transform between oscillatory and exponential behaviour. It is determined using the Bisection Method."
   ]
  },
  {
   "cell_type": "code",
   "execution_count": null,
   "id": "6dcb27a0-4339-4aad-a0ed-468df25ceb12",
   "metadata": {},
   "outputs": [],
   "source": [
    "    # Find turning points\n",
    "    a = 0\n",
    "    b = 15 / alpha\n",
    "    tol = 1e-15\n",
    "    max_iter = 1000\n",
    "\n",
    "    def f(x, E):  # Function for turning points\n",
    "        return E - V(x)\n",
    "\n",
    "    def bisection(f, a, b, E, tol, max_iter):\n",
    "        if f(a, E) * f(b, E) > 0:\n",
    "            raise ValueError('Function has same signs at both endpoints of the interval.')\n",
    "        for _ in range(max_iter):\n",
    "            c = (a + b) / 2\n",
    "            fc = f(c, E)\n",
    "            if abs(fc) < tol:\n",
    "                return c\n",
    "            elif f(a, E) * fc < 0:\n",
    "                b = c\n",
    "            else:\n",
    "                a = c\n",
    "        return (a + b) / 2\n",
    "\n",
    "    left_root = -bisection(f, a, b, E, tol, max_iter)\n",
    "    right_root = bisection(f, a, b, E, tol, max_iter)"
   ]
  },
  {
   "cell_type": "markdown",
   "id": "ba3266d7-38eb-42e3-b981-29eff10e5769",
   "metadata": {},
   "source": [
    "The shooting method sets up the spatial grid and computes the potential at each point then integrates the wavefunctions from both boundaries and calculates the mismatch at the turning point."
   ]
  },
  {
   "cell_type": "code",
   "execution_count": null,
   "id": "ba8262ec-2d4c-4eb5-ba3b-4d30d81a7fb2",
   "metadata": {},
   "outputs": [],
   "source": [
    "    # Shooting method setup\n",
    "    midpoint = (right_root + left_root) / 2\n",
    "    width = (right_root - left_root) / 2\n",
    "    x_far_left = midpoint - 10 * width\n",
    "    x_far_right = midpoint + 10 * width\n",
    "\n",
    "    n = 20000\n",
    "    h = (x_far_right - x_far_left) / n\n",
    "    x = np.linspace(x_far_left, x_far_right, n + 1)\n",
    "\n",
    "    V_x = V(x)\n",
    "\n",
    "    Left_points = Numerov_left(0, h, E, V_x)\n",
    "    Right_points = Numerov_right(0, h, E, V_x)\n",
    "\n",
    "    n_turning = int((right_root - x_far_left) / h)\n",
    "    return ((Left_points[n_turning + 1] - Left_points[n_turning - 1]) / (2 * h * Left_points[n_turning]) - \n",
    "            (Right_points[n_turning + 1] - Right_points[n_turning - 1]) / (2 * h * Right_points[n_turning]))"
   ]
  },
  {
   "cell_type": "markdown",
   "id": "89f6234c-4ca2-485c-bf3f-f3e979a3c3bc",
   "metadata": {},
   "source": [
    "Here the code defines an energy range, E_min to E_max and then divides into intervals. The range is determined by examining the potential range. Sign changes in f(E) is checked across intervals to indicate potential eigenvalues. For every interval with sign change, it uses the Brent's method (root_scalar) to find the root (eigenvalues)"
   ]
  },
  {
   "cell_type": "code",
   "execution_count": null,
   "id": "28bbcc6b-f545-4c6a-9b7a-e0fc19421c0c",
   "metadata": {},
   "outputs": [],
   "source": [
    "# Finding eigenvalues\n",
    "E_min, E_max = -2.99, 2.99\n",
    "num_intervals = int((E_max - E_min) / 0.01)\n",
    "E_values = np.linspace(E_min, E_max, num_intervals + 2)\n",
    "\n",
    "roots = []\n",
    "for i in range(len(E_values) - 1):\n",
    "    a, b = E_values[i], E_values[i + 1]\n",
    "    if f_E(a) * f_E(b) < 0:  # Sign change indicates a root\n",
    "        try:\n",
    "            sol = root_scalar(f_E, bracket=[a, b], method='brentq')\n",
    "            if sol.converged:\n",
    "                roots.append(sol.root)\n",
    "        except ValueError:\n",
    "            pass\n",
    "\n",
    "# Remove duplicates and display results\n",
    "unique_roots = np.unique(np.round(roots, decimals=15))"
   ]
  },
  {
   "cell_type": "markdown",
   "id": "282564ea-02ae-41de-b382-4e49095b82d2",
   "metadata": {},
   "source": [
    "Visualisation of the potential V(x) and quantized eigenvalues E(n). The plot of f(E) changes with energy where roots of f(E)=0 confirms the eigenvalues. Eigenvalues lie between potential maximum."
   ]
  },
  {
   "cell_type": "code",
   "execution_count": null,
   "id": "73589937-5927-4b35-a7c0-89379cc9cf89",
   "metadata": {},
   "outputs": [],
   "source": [
    "print(\"First eigenvalues found:\")\n",
    "for i, root in enumerate(unique_roots[:6]):  # Show only the first 6\n",
    "    print(f\"Eigenvalue {i + 1}: {root:.6f}\")\n",
    "\n",
    "# Plot the potential and eigenvalues\n",
    "x = np.linspace(-10, 10, 1000)\n",
    "plt.plot(x, V(x), label=\"Potential V(x)\")\n",
    "for i, root in enumerate(unique_roots[:6]):\n",
    "    plt.axhline(root, linestyle='--', label=f\"Eigenvalue {i + 1}: {root:.2f}\")\n",
    "plt.title(\"Potential and First 6 Eigenvalues\")\n",
    "plt.xlabel(\"x\")\n",
    "plt.ylabel(\"Energy\")\n",
    "plt.legend()\n",
    "plt.grid()\n",
    "plt.show()\n",
    "\n",
    "# Plot f(E) to visualize roots\n",
    "plt.plot(E_values, [f_E(E) for E in E_values])\n",
    "plt.axhline(0, color='red', linestyle='--', label=\"f(E) = 0\")\n",
    "plt.title(\"Mismatch Function f(E) vs Energy\")\n",
    "plt.xlabel(\"Energy (E)\")\n",
    "plt.ylabel(\"f(E)\")\n",
    "plt.legend()\n",
    "plt.grid()\n",
    "plt.show()"
   ]
  },
  {
   "cell_type": "code",
   "execution_count": null,
   "id": "502b503b-6c46-4e1c-bf36-f95c38991323",
   "metadata": {},
   "outputs": [],
   "source": []
  }
 ],
 "metadata": {
  "kernelspec": {
   "display_name": "Python 3 (ipykernel)",
   "language": "python",
   "name": "python3"
  },
  "language_info": {
   "codemirror_mode": {
    "name": "ipython",
    "version": 3
   },
   "file_extension": ".py",
   "mimetype": "text/x-python",
   "name": "python",
   "nbconvert_exporter": "python",
   "pygments_lexer": "ipython3",
   "version": "3.12.4"
  }
 },
 "nbformat": 4,
 "nbformat_minor": 5
}
